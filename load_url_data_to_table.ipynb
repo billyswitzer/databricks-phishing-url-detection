{
 "cells": [
  {
   "cell_type": "code",
   "execution_count": 0,
   "metadata": {
    "application/vnd.databricks.v1+cell": {
     "cellMetadata": {
      "byteLimit": 2048000,
      "rowLimit": 10000
     },
     "inputWidgets": {},
     "nuid": "d31f554f-7a66-4fc0-90f4-caf32ad9093a",
     "showTitle": false,
     "title": ""
    }
   },
   "outputs": [],
   "source": [
    "%run ./config"
   ]
  },
  {
   "cell_type": "code",
   "execution_count": 0,
   "metadata": {
    "application/vnd.databricks.v1+cell": {
     "cellMetadata": {
      "byteLimit": 2048000,
      "rowLimit": 10000
     },
     "inputWidgets": {},
     "nuid": "d8ad3ae5-3639-4821-8739-dbf6f3db9e90",
     "showTitle": false,
     "title": ""
    }
   },
   "outputs": [],
   "source": [
    "storage_account_name = os.getenv('STORAGE_ACCOUNT_NAME')\n",
    "spark.conf.set(\n",
    "    f'fs.azure.account.key.{storage_account_name}.blob.core.windows.net',\n",
    "    os.getenv('STORAGE_ACCOUNT_KEY')\n",
    ")"
   ]
  },
  {
   "cell_type": "code",
   "execution_count": 0,
   "metadata": {
    "application/vnd.databricks.v1+cell": {
     "cellMetadata": {
      "byteLimit": 2048000,
      "rowLimit": 10000
     },
     "inputWidgets": {},
     "nuid": "be8b4c8f-e711-4ea0-8bac-31273b04ae59",
     "showTitle": false,
     "title": ""
    }
   },
   "outputs": [],
   "source": [
    "container_name = 'phishingurldetection'\n",
    "csv_file_path = f'wasbs://{container_name}@{storage_account_name}.blob.core.windows.net/out.csv'\n",
    "\n",
    "url_df = spark.read.format('csv').option('header', 'true').option('inferSchema','true').load(csv_file_path).createOrReplaceTempView('url_log')"
   ]
  },
  {
   "cell_type": "code",
   "execution_count": 0,
   "metadata": {
    "application/vnd.databricks.v1+cell": {
     "cellMetadata": {
      "byteLimit": 2048000,
      "rowLimit": 10000
     },
     "inputWidgets": {},
     "nuid": "7edd2002-53f9-4535-97aa-421bd2e28cdc",
     "showTitle": false,
     "title": ""
    }
   },
   "outputs": [],
   "source": [
    "spark.sql(\"\"\"\n",
    "        CREATE OR REPLACE TEMPORARY VIEW vw_url_agg AS\n",
    "        SELECT label,\n",
    "            COUNT(*) AS url_count,\n",
    "            SUM(url_entropy) / COUNT(*) AS avg_url_entropy,\n",
    "            SUM(CAST(dot_count AS DOUBLE)) / COUNT(*) AS avg_dot_count,\n",
    "            SUM(CAST(at_count AS DOUBLE)) / COUNT(*) AS avg_at_count,\n",
    "            SUM(CAST(dash_count AS DOUBLE)) / COUNT(*) AS avg_dash_count,\n",
    "            100*SUM(CASE WHEN domain_has_digits THEN 1.0 ELSE 0.0 END) / COUNT(*) AS pct_with_digits\n",
    "        FROM url_log\n",
    "        WHERE label IN ('legitimate','phishing')\n",
    "        GROUP BY label\n",
    "\"\"\")"
   ]
  },
  {
   "cell_type": "code",
   "execution_count": 0,
   "metadata": {
    "application/vnd.databricks.v1+cell": {
     "cellMetadata": {
      "byteLimit": 2048000,
      "rowLimit": 10000
     },
     "inputWidgets": {},
     "nuid": "8aaf90cd-909e-4128-8aa4-7aca1345370d",
     "showTitle": false,
     "title": ""
    }
   },
   "outputs": [],
   "source": [
    "#display(spark.sql(\"\"\"SELECT * FROM url_log WHERE label != 'legitimate' LIMIT 100\"\"\"))"
   ]
  },
  {
   "cell_type": "code",
   "execution_count": 0,
   "metadata": {
    "application/vnd.databricks.v1+cell": {
     "cellMetadata": {
      "byteLimit": 2048000,
      "rowLimit": 10000
     },
     "inputWidgets": {},
     "nuid": "ff997961-6886-4664-bee0-e6a95957683e",
     "showTitle": false,
     "title": ""
    }
   },
   "outputs": [],
   "source": [
    "import matplotlib.pyplot as plt\n",
    "\n",
    "df = spark.sql(\"\"\"SELECT * FROM vw_url_agg\"\"\")\n",
    "\n",
    "pdf = df.toPandas()\n",
    "\n",
    "plt.bar(pdf['label'], pdf['avg_url_entropy'])\n",
    "plt.title('Average URL Entropy')\n",
    "plt.show()"
   ]
  }
 ],
 "metadata": {
  "application/vnd.databricks.v1+notebook": {
   "dashboards": [
    {
     "elements": [
      {
       "dashboardResultIndex": 0,
       "elementNUID": "ff997961-6886-4664-bee0-e6a95957683e",
       "elementType": "command",
       "guid": "8f4774ae-7ca7-4325-9ca4-e46d7b81a8dc",
       "options": null,
       "position": {
        "height": 10,
        "width": 13,
        "x": 0,
        "y": 0,
        "z": null
       },
       "resultIndex": null
      }
     ],
     "globalVars": {},
     "guid": "",
     "layoutOption": {
      "grid": true,
      "stack": true
     },
     "nuid": "2dd3aef2-b1fb-4e70-bbb2-17f2a486660a",
     "origId": 703719117624904,
     "title": "url_phishing_detection_dashboard",
     "version": "DashboardViewV1",
     "width": 1024
    }
   ],
   "environmentMetadata": null,
   "language": "python",
   "notebookMetadata": {
    "pythonIndentUnit": 4
   },
   "notebookName": "load_url_data_to_table",
   "widgets": {}
  }
 },
 "nbformat": 4,
 "nbformat_minor": 0
}
